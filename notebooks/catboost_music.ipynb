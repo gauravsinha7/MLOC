{
  "nbformat": 4,
  "nbformat_minor": 0,
  "metadata": {
    "colab": {
      "name": "catboost music.ipynb",
      "provenance": [],
      "collapsed_sections": []
    },
    "kernelspec": {
      "name": "python3",
      "display_name": "Python 3"
    },
    "language_info": {
      "name": "python"
    }
  },
  "cells": [
    {
      "cell_type": "code",
      "source": [
        "os.chdir('/content/mlos')\n",
        "os.getcwd()"
      ],
      "metadata": {
        "colab": {
          "base_uri": "https://localhost:8080/",
          "height": 35
        },
        "id": "424RH7YWLAfN",
        "outputId": "dfd2d054-0cdb-4418-cdb1-e6fde759c2aa"
      },
      "execution_count": 93,
      "outputs": [
        {
          "output_type": "execute_result",
          "data": {
            "application/vnd.google.colaboratory.intrinsic+json": {
              "type": "string"
            },
            "text/plain": [
              "'/content/mlos'"
            ]
          },
          "metadata": {},
          "execution_count": 93
        }
      ]
    },
    {
      "cell_type": "code",
      "source": [
        "# importing necessary libraries\n",
        "import os\n",
        "import sys\n",
        "import numpy as np\n",
        "import pandas as pd\n",
        "import sklearn\n",
        "import time\n",
        "import redis\n",
        "import mus_utils\n",
        "import random\n",
        "from mus_utils import get_features_from_redis\n",
        "from catboost import CatBoostClassifier\n",
        "if (os.getcwd().endswith(\"notebooks\")):\n",
        "    os.chdir(\"..\")\n",
        "sys.path.insert(0, os.path.abspath(\"preprocess_scripts/benchmark_ex\"))\n",
        "print(os.getcwd())"
      ],
      "metadata": {
        "colab": {
          "base_uri": "https://localhost:8080/"
        },
        "id": "9zHtIwHlLFzw",
        "outputId": "4946b024-ae78-4b5b-d1c3-caf632d2e796"
      },
      "execution_count": 94,
      "outputs": [
        {
          "output_type": "stream",
          "name": "stdout",
          "text": [
            "/content/mlos\n"
          ]
        }
      ]
    },
    {
      "cell_type": "code",
      "source": [
        "# pushing preprocessed data to redis instance\n",
        "db = redis.StrictRedis(host='172.17.0.2')\n",
        "train_X, test_X, train_y, test_y = mus_utils.load_music_dataset(db)"
      ],
      "metadata": {
        "id": "UTrSGCgrZINd"
      },
      "execution_count": 95,
      "outputs": []
    },
    {
      "cell_type": "code",
      "source": [
        "# function to train model on CatBoostclassifier\n",
        "def model_train(y, X_list):\n",
        "    X = pd.concat(X_list, axis=1)\n",
        "    X = X[[f for f in mus_utils.FEATURES if f in X.columns]]\n",
        "    model = CatBoostClassifier(\n",
        "        iterations=5,\n",
        "        learning_rate=0.5,\n",
        "        depth=15,\n",
        "        eval_metric=\"AUC\")\n",
        "    model = model.fit(X, y)\n",
        "    return model\n",
        "\n",
        "# function for prediction on CatBoostClassifier\n",
        "def model_predict(model, X_list):\n",
        "    X = pd.concat(X_list, axis=1)\n",
        "    X = X[[f for f in mus_utils.FEATURES if f in X.columns]]\n",
        "    if len(X) == 0:\n",
        "        return np.zeros(0, dtype=np.float32)\n",
        "    else:\n",
        "        return model.predict(X)\n",
        "\n",
        "# function to determine the confidence interval or prediction probability\n",
        "def model_confidence(model, X_list):\n",
        "    X = pd.concat(X_list, axis=1)\n",
        "    X = X[[f for f in mus_utils.FEATURES if f in X.columns]]\n",
        "    return model.predict_proba(X)[:, 1]\n",
        "\n",
        "# function to deetrmine AUC \n",
        "def model_score(true_y, pred_y):\n",
        "    fpr, tpr, _ = sklearn.metrics.roc_curve(true_y, pred_y, pos_label=1)\n",
        "    return sklearn.metrics.auc(fpr, tpr)"
      ],
      "metadata": {
        "id": "amjGazEeZh9S"
      },
      "execution_count": 96,
      "outputs": []
    },
    {
      "cell_type": "code",
      "source": [
        "from src.runtime.executor import execute\n",
        "\n",
        "train_cascades_params = {} # The computed parameters will be stored here.\n",
        "\n",
        "# execute decorator does cascading on the training pipeline, which quickens this process\n",
        "@execute(train_function=model_train,\n",
        "                 predict_function=model_predict,\n",
        "                 confidence_function=model_confidence,\n",
        "                 score_function=model_score,\n",
        "                 train_cascades_params=train_cascades_params)\n",
        "def train_pipeline(input_X, input_y):\n",
        "    user_latent_features = get_features_from_redis(\n",
        "        input_X, column=\"msno\", name=\"features_uf\", db=db)\n",
        "    song_latent_features = get_features_from_redis(\n",
        "        input_X, column=\"song_id\", name=\"features_sf\", db=db)\n",
        "    user_cluster_features = get_features_from_redis(\n",
        "        input_X, column=\"cluster_msno_25\", name=\"uc_features\", db=db)\n",
        "    song_cluster_features = get_features_from_redis(\n",
        "        input_X, column=\"cluster_song_id_25\", name=\"sc_features\", db=db)\n",
        "    artist_cluster_features = get_features_from_redis(\n",
        "        input_X, column=\"cluster_artist_name_25\", name=\"ac_features\", db=db)\n",
        "    user_features = get_features_from_redis(\n",
        "        input_X, column=\"msno\", name=\"us_features\", db=db)\n",
        "    song_features = get_features_from_redis(\n",
        "        input_X, column=\"song_id\", name=\"ss_features\", db=db)\n",
        "    artist_features = get_features_from_redis(\n",
        "        input_X, column=\"artist_name\", name=\"as_features\", db=db)\n",
        "    genre_features = get_features_from_redis(\n",
        "        input_X, column=\"genre_max\", name=\"gs_features\", db=db)\n",
        "    city_features = get_features_from_redis(\n",
        "        input_X, column=\"city\", name=\"cs_features\", db=db)\n",
        "    ages_features = get_features_from_redis(\n",
        "        input_X, column=\"bd\", name=\"ages_features\", db=db)\n",
        "    language_features = get_features_from_redis(\n",
        "        input_X, column=\"language\", name=\"ls_features\", db=db)\n",
        "    gender_features = get_features_from_redis(\n",
        "        input_X, column=\"gender\", name=\"gender_features\", db=db)\n",
        "    composer_features = get_features_from_redis(\n",
        "        input_X, column=\"composer\", name=\"composer_features\", db=db)\n",
        "    lyrs_features = get_features_from_redis(\n",
        "        input_X, column=\"lyricist\", name=\"lyrs_features\", db=db)\n",
        "    sns_features = get_features_from_redis(\n",
        "        input_X, column=\"source_screen_name\", name=\"sns_features\", db=db)\n",
        "    stabs_features = get_features_from_redis(\n",
        "        input_X, column=\"source_system_tab\", name=\"stabs_features\", db=db)\n",
        "    stypes_features = get_features_from_redis(\n",
        "        input_X, column=\"source_type\", name=\"stypes_features\", db=db)\n",
        "    regs_features = get_features_from_redis(\n",
        "        input_X, column=\"registered_via\", name=\"regs_features\", db=db)\n",
        "    return model_train(input_y,\n",
        "                       [user_latent_features, song_latent_features, user_cluster_features,\n",
        "                        song_cluster_features, artist_cluster_features, user_features,\n",
        "                        song_features, artist_features, genre_features, city_features,\n",
        "                        ages_features, language_features, gender_features,\n",
        "                        composer_features,lyrs_features, sns_features, stabs_features,\n",
        "                        stypes_features, regs_features])"
      ],
      "metadata": {
        "id": "mqlMWiOG1K37"
      },
      "execution_count": 97,
      "outputs": []
    },
    {
      "cell_type": "code",
      "source": [
        "from src.runtime import cascade_build\n",
        "\n",
        "train_X_features, feature_costs, feature_names = mus_utils.compute_features(train_X, db)"
      ],
      "metadata": {
        "id": "4E7HOqhr2LfO"
      },
      "execution_count": null,
      "outputs": []
    },
    {
      "cell_type": "code",
      "source": [
        "# train the model using cascaded features\n",
        "cascades_train_X, cascades_valid_X, cascades_train_y, cascades_valid_y = \\\n",
        "    cascade_build.train_test_split(train_X_features, train_y, test_size=0.20, random_state=42)\n",
        "train_set_full_model = model_train(cascades_train_y, cascades_train_X)\n",
        "\n",
        "feature_importances = \\\n",
        "    cascade_build.calculate_feature_importances(train_set_full_model,\n",
        "                                                     cascades_valid_X, cascades_valid_y,\n",
        "                                                     model_predict, model_score,\n",
        "                                                     feature_names)\n",
        "\n",
        "cascade_build.cprint(feature_importances, feature_costs)"
      ],
      "metadata": {
        "colab": {
          "base_uri": "https://localhost:8080/"
        },
        "id": "BLk2zQ4R3z9e",
        "outputId": "e4dbba1b-587a-42c5-fb6a-b68816610080"
      },
      "execution_count": null,
      "outputs": [
        {
          "output_type": "stream",
          "name": "stdout",
          "text": [
            "0:\ttotal: 2.48s\tremaining: 9.93s\n",
            "1:\ttotal: 4.98s\tremaining: 7.48s\n",
            "2:\ttotal: 7.45s\tremaining: 4.97s\n",
            "3:\ttotal: 10.1s\tremaining: 2.52s\n",
            "4:\ttotal: 12.7s\tremaining: 0us\n",
            "Feature: user_latent_features      Cost:  1.000 Importance:  0.083\n",
            "Feature: user_cluster_features     Cost:  1.000 Importance:  0.063\n",
            "Feature: user_features             Cost:  1.000 Importance:  0.059\n",
            "Feature: stypes_features           Cost:  1.000 Importance:  0.044\n",
            "Feature: song_cluster_features     Cost:  1.000 Importance:  0.041\n",
            "Feature: stabs_features            Cost:  1.000 Importance:  0.032\n",
            "Feature: song_latent_features      Cost:  1.000 Importance:  0.022\n",
            "Feature: sns_features              Cost:  1.000 Importance:  0.019\n",
            "Feature: city_features             Cost:  1.000 Importance:  0.018\n",
            "Feature: artist_cluster_features   Cost:  1.000 Importance:  0.016\n",
            "Feature: regs_features             Cost:  1.000 Importance:  0.015\n",
            "Feature: ages_features             Cost:  1.000 Importance:  0.015\n",
            "Feature: gender_features           Cost:  1.000 Importance:  0.008\n",
            "Feature: song_features             Cost:  1.000 Importance:  0.005\n",
            "Feature: artist_features           Cost:  1.000 Importance:  0.004\n",
            "Feature: composer_features         Cost:  1.000 Importance:  0.004\n",
            "Feature: language_features         Cost:  1.000 Importance:  0.000\n",
            "Feature: lyrs_features             Cost:  1.000 Importance:  0.000\n",
            "Feature: genre_features            Cost:  1.000 Importance: -0.000\n"
          ]
        }
      ]
    },
    {
      "cell_type": "code",
      "source": [
        "# function to select features with minimum cost\n",
        "total_feature_cost = sum(feature_costs.values())\n",
        "cost_cutoff = 0.4 * total_feature_cost\n",
        "selected_indices = cascade_build.select_features(feature_costs, feature_importances, cost_cutoff)\n",
        "selected_features = [feature_names[random.randint(0, len(feature_importances)-1)] for i in range(0,len(selected_indices))]\n",
        "\n",
        "print(\"Total feature cost: %5.3f  Selected feature cost cutoff: %5.3f\" % (total_feature_cost, cost_cutoff))\n",
        "print(\"Selected features:\")\n",
        "for f in selected_features:\n",
        "    print(\"\\t%s\" % f)"
      ],
      "metadata": {
        "colab": {
          "base_uri": "https://localhost:8080/"
        },
        "id": "7MkjXWuw5cpE",
        "outputId": "fbb8b7a4-521f-40b3-df8f-adb40a2cc840"
      },
      "execution_count": null,
      "outputs": [
        {
          "output_type": "stream",
          "name": "stdout",
          "text": [
            "Total feature cost: 19.000  Selected feature cost cutoff: 7.600\n",
            "Selected features:\n",
            "\tgenre_features\n",
            "\tcomposer_features\n",
            "\tsong_cluster_features\n",
            "\tgender_features\n",
            "\tcomposer_features\n",
            "\tartist_cluster_features\n",
            "\tuser_features\n"
          ]
        }
      ]
    },
    {
      "cell_type": "code",
      "source": [
        "# calculating projected speedup for the selected features\n",
        "total_feature_cost = sum(feature_costs.values())\n",
        "cost_cutoff = 0.26 * total_feature_cost\n",
        "selected_indices = cascade_build.select_features(feature_costs, feature_importances, cost_cutoff)\n",
        "selected_features = [feature_names[i] for i in selected_indices]\n",
        "\n",
        "print(\"Total feature cost: %5.3f  Selected feature cost cutoff: %5.3f\" % (total_feature_cost, cost_cutoff))\n",
        "print(\"Selected features:\")\n",
        "for feature in selected_features:\n",
        "    print(\"\\t%s\" % feature)\n",
        "\n",
        "threshold, fraction_approximated = \\\n",
        "    cascade_build.calculate_feature_set_performance(cascades_train_X, cascades_train_y, \n",
        "                                                         cascades_valid_X, cascades_valid_y,\n",
        "                                                         selected_indices,\n",
        "                                                         model_train, model_predict,\n",
        "                                                         model_confidence, model_score,\n",
        "                                                         train_set_full_model)\n",
        "selected_feature_cost = sum(feature_costs[feature_names[i]] for i in selected_indices)\n",
        "expected_cost = fraction_approximated * selected_feature_cost + \\\n",
        "(1 - fraction_approximated) * total_feature_cost\n",
        "print(\"Confidence threshold: %5.3f  Percentage of inputs approximated: %5.3f\" \n",
        "      % (threshold, fraction_approximated))\n",
        "print(\"Expected Query Cost = Percent Approximated * Selected Feature Cost +\\n\" +\n",
        "      \"\\t\\t      Percent Not Approximated * Total Feature Cost\")\n",
        "print(\"\\t\\t    = %5.3f * %5.3f + %5.3f * %5.3f = %5.3f\" % \n",
        "      (fraction_approximated, selected_feature_cost,\n",
        "       1 - fraction_approximated, total_feature_cost, expected_cost))\n",
        "print(\"Projected speedup: %5.3f\" % (total_feature_cost / expected_cost))"
      ],
      "metadata": {
        "colab": {
          "base_uri": "https://localhost:8080/"
        },
        "id": "OSvLoo3-6qlJ",
        "outputId": "77b658fc-9a81-4df8-8697-9e725c48b05c"
      },
      "execution_count": null,
      "outputs": [
        {
          "output_type": "stream",
          "name": "stdout",
          "text": [
            "Total feature cost: 19.000  Selected feature cost cutoff: 4.940\n",
            "Selected features:\n",
            "\tuser_latent_features\n",
            "\tuser_cluster_features\n",
            "\tuser_features\n",
            "\tstypes_features\n",
            "0:\ttotal: 1.42s\tremaining: 5.67s\n",
            "1:\ttotal: 2.84s\tremaining: 4.26s\n",
            "2:\ttotal: 4.4s\tremaining: 2.93s\n",
            "3:\ttotal: 5.82s\tremaining: 1.46s\n",
            "4:\ttotal: 7.54s\tremaining: 0us\n",
            "Confidence threshold: 0.600  Percentage of inputs approximated: 0.794\n",
            "Expected Query Cost = Percent Approximated * Selected Feature Cost +\n",
            "\t\t      Percent Not Approximated * Total Feature Cost\n",
            "\t\t    = 0.794 * 4.000 + 0.206 * 19.000 = 7.089\n",
            "Projected speedup: 2.680\n"
          ]
        }
      ]
    },
    {
      "cell_type": "code",
      "source": [
        "# function for model prediction without cascading\n",
        "def eval_pipeline(input_X, model):\n",
        "    user_latent_features = get_features_from_redis(\n",
        "        input_X, column=\"msno\", name=\"features_uf\", db=db)\n",
        "    song_latent_features = get_features_from_redis(\n",
        "        input_X, column=\"song_id\", name=\"features_sf\", db=db)\n",
        "    user_cluster_features = get_features_from_redis(\n",
        "        input_X, column=\"cluster_msno_25\", name=\"uc_features\", db=db)\n",
        "    song_cluster_features = get_features_from_redis(\n",
        "        input_X, column=\"cluster_song_id_25\", name=\"sc_features\", db=db)\n",
        "    artist_cluster_features = get_features_from_redis(\n",
        "        input_X, column=\"cluster_artist_name_25\", name=\"ac_features\", db=db)\n",
        "    user_features = get_features_from_redis(\n",
        "        input_X, column=\"msno\", name=\"us_features\", db=db)\n",
        "    song_features = get_features_from_redis(\n",
        "        input_X, column=\"song_id\", name=\"ss_features\", db=db)\n",
        "    artist_features = get_features_from_redis(\n",
        "        input_X, column=\"artist_name\", name=\"as_features\", db=db)\n",
        "    genre_features = get_features_from_redis(\n",
        "        input_X, column=\"genre_max\", name=\"gs_features\", db=db)\n",
        "    city_features = get_features_from_redis(\n",
        "        input_X, column=\"city\", name=\"cs_features\", db=db)\n",
        "    ages_features = get_features_from_redis(\n",
        "        input_X, column=\"bd\", name=\"ages_features\", db=db)\n",
        "    language_features = get_features_from_redis(\n",
        "        input_X, column=\"language\", name=\"ls_features\", db=db)\n",
        "    gender_features = get_features_from_redis(\n",
        "        input_X, column=\"gender\", name=\"gender_features\", db=db)\n",
        "    composer_features = get_features_from_redis(\n",
        "        input_X, column=\"composer\", name=\"composer_features\", db=db)\n",
        "    lyrs_features = get_features_from_redis(\n",
        "        input_X, column=\"lyricist\", name=\"lyrs_features\", db=db)\n",
        "    sns_features = get_features_from_redis(\n",
        "        input_X, column=\"source_screen_name\", name=\"sns_features\", db=db)\n",
        "    stabs_features = get_features_from_redis(\n",
        "        input_X, column=\"source_system_tab\", name=\"stabs_features\", db=db)\n",
        "    stypes_features = get_features_from_redis(\n",
        "        input_X, column=\"source_type\", name=\"stypes_features\", db=db)\n",
        "    regs_features = get_features_from_redis(\n",
        "        input_X, column=\"registered_via\", name=\"regs_features\", db=db)\n",
        "    return model_predict(model,\n",
        "                       [user_latent_features, song_latent_features, user_cluster_features,\n",
        "                        song_cluster_features, artist_cluster_features, user_features,\n",
        "                        song_features, artist_features, genre_features, city_features,\n",
        "                        ages_features, language_features, gender_features,\n",
        "                        composer_features,lyrs_features, sns_features, stabs_features,\n",
        "                        stypes_features, regs_features])\n",
        "\n",
        "time_start = time.time()\n",
        "preds = eval_pipeline(test_X[:2000], full_model)\n",
        "unopt_time_elapsed = time.time() - time_start\n",
        "print(\"Elapsed Time %fs\" % unopt_time_elapsed)\n",
        "\n",
        "print(\"AUC Score: %f\" % model_score(preds, test_y[:2000]))"
      ],
      "metadata": {
        "colab": {
          "base_uri": "https://localhost:8080/"
        },
        "id": "8wGlM-b77R2A",
        "outputId": "5feb6c0c-f6bb-45eb-f8f9-e38d458da0aa"
      },
      "execution_count": null,
      "outputs": [
        {
          "output_type": "stream",
          "name": "stdout",
          "text": [
            "Elapsed Time 10.915100s\n",
            "AUC Score: 0.713580\n"
          ]
        }
      ]
    },
    {
      "cell_type": "code",
      "source": [
        "#function for model prediction with cascading using @execute decorator\n",
        "@execute(predict_function=model_predict,\n",
        "                 confidence_function=model_confidence,\n",
        "                 predict_cascades_params=cascades_params)\n",
        "def eval_pipeline_dec(input_X, model):\n",
        "    user_latent_features = get_features_from_redis(\n",
        "        input_X, column=\"msno\", name=\"features_uf\", db=db)\n",
        "    song_latent_features = get_features_from_redis(\n",
        "        input_X, column=\"song_id\", name=\"features_sf\", db=db)\n",
        "    user_cluster_features = get_features_from_redis(\n",
        "        input_X, column=\"cluster_msno_25\", name=\"uc_features\", db=db)\n",
        "    song_cluster_features = get_features_from_redis(\n",
        "        input_X, column=\"cluster_song_id_25\", name=\"sc_features\", db=db)\n",
        "    artist_cluster_features = get_features_from_redis(\n",
        "        input_X, column=\"cluster_artist_name_25\", name=\"ac_features\", db=db)\n",
        "    user_features = get_features_from_redis(\n",
        "        input_X, column=\"msno\", name=\"us_features\", db=db)\n",
        "    song_features = get_features_from_redis(\n",
        "        input_X, column=\"song_id\", name=\"ss_features\", db=db)\n",
        "    artist_features = get_features_from_redis(\n",
        "        input_X, column=\"artist_name\", name=\"as_features\", db=db)\n",
        "    genre_features = get_features_from_redis(\n",
        "        input_X, column=\"genre_max\", name=\"gs_features\", db=db)\n",
        "    city_features = get_features_from_redis(\n",
        "        input_X, column=\"city\", name=\"cs_features\", db=db)\n",
        "    ages_features = get_features_from_redis(\n",
        "        input_X, column=\"bd\", name=\"ages_features\", db=db)\n",
        "    language_features = get_features_from_redis(\n",
        "        input_X, column=\"language\", name=\"ls_features\", db=db)\n",
        "    gender_features = get_features_from_redis(\n",
        "        input_X, column=\"gender\", name=\"gender_features\", db=db)\n",
        "    composer_features = get_features_from_redis(\n",
        "        input_X, column=\"composer\", name=\"composer_features\", db=db)\n",
        "    lyrs_features = get_features_from_redis(\n",
        "        input_X, column=\"lyricist\", name=\"lyrs_features\", db=db)\n",
        "    sns_features = get_features_from_redis(\n",
        "        input_X, column=\"source_screen_name\", name=\"sns_features\", db=db)\n",
        "    stabs_features = get_features_from_redis(\n",
        "        input_X, column=\"source_system_tab\", name=\"stabs_features\", db=db)\n",
        "    stypes_features = get_features_from_redis(\n",
        "        input_X, column=\"source_type\", name=\"stypes_features\", db=db)\n",
        "    regs_features = get_features_from_redis(\n",
        "        input_X, column=\"registered_via\", name=\"regs_features\", db=db)\n",
        "    return model_predict(model,\n",
        "                       [user_latent_features, song_latent_features, user_cluster_features,\n",
        "                        song_cluster_features, artist_cluster_features, user_features,\n",
        "                        song_features, artist_features, genre_features, city_features,\n",
        "                        ages_features, language_features, gender_features,\n",
        "                        composer_features,lyrs_features, sns_features, stabs_features,\n",
        "                        stypes_features, regs_features])\n",
        "\n",
        "eval_pipeline_dec(test_X.iloc[:100], full_model)\n",
        "eval_pipeline_dec(test_X.iloc[:100], full_model)\n",
        "time_start = time.time()\n",
        "preds = eval_pipeline_dec(test_X[:2000], full_model)\n",
        "cascades_time_elapsed2 = time.time() - time_start\n",
        "print(\"Elapsed Time %fs\" % cascades_time_elapsed2)\n",
        "\n",
        "print(\"AUC Score: %f\" % model_score(preds, test_y[:2000]))"
      ],
      "metadata": {
        "colab": {
          "base_uri": "https://localhost:8080/"
        },
        "id": "pz3PdxeR73W6",
        "outputId": "8af5186c-20e6-4fa3-ea5b-87830a4b28d2"
      },
      "execution_count": null,
      "outputs": [
        {
          "output_type": "stream",
          "name": "stdout",
          "text": [
            "Elapsed Time 4.170472s\n",
            "AUC Score: 0.745283\n"
          ]
        }
      ]
    },
    {
      "cell_type": "code",
      "source": [
        "import matplotlib.pyplot as plt\n",
        "plt.rcParams['axes.labelsize'] = 16\n",
        "plt.rcParams['xtick.labelsize'] = 16\n",
        "plt.rcParams['ytick.labelsize'] = 16\n",
        "fig, axes = plt.subplots(figsize=(6, 4), ncols=1, nrows=1,\n",
        "                         sharex=False, sharey=False)\n",
        "x = np.arange(2)\n",
        "width = 0.5  # the width of the bars\n",
        "\n",
        "bars = axes.bar(x, [2000 / unopt_time_elapsed, 2000 / cascades_time_elapsed2], width)\n",
        "axes.set(xlabel='', ylabel='Throughput (rows/sec)')\n",
        "axes.set_xticks(x)\n",
        "axes.set_xticklabels([\"Unoptimized\", \"Cascades\"])\n",
        "plt.show()"
      ],
      "metadata": {
        "colab": {
          "base_uri": "https://localhost:8080/",
          "height": 384
        },
        "id": "8BW26Jx18Vhh",
        "outputId": "abe3a1cc-2bba-4250-f84a-1f33a70a8706"
      },
      "execution_count": null,
      "outputs": [
        {
          "output_type": "display_data",
          "data": {
            "image/png": "[encoded data removed]",
            "text/plain": [
              "<Figure size 600x400 with 1 Axes>"
            ]
          },
          "metadata": {}
        }
      ]
    }
  ]
}