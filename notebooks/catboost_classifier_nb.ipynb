{
  "nbformat": 4,
  "nbformat_minor": 0,
  "metadata": {
    "colab": {
      "name": "catboost-Explanation-Willump.ipynb",
      "provenance": [],
      "collapsed_sections": []
    },
    "kernelspec": {
      "name": "python3",
      "display_name": "Python 3"
    },
    "language_info": {
      "name": "python"
    }
  },
  "cells": [
    {
      "cell_type": "code",
      "execution_count": 6,
      "metadata": {
        "colab": {
          "base_uri": "https://localhost:8080/"
        },
        "id": "6yGxCtJUnJxo",
        "outputId": "c63396a1-2232-4663-e41b-42db33787357"
      },
      "outputs": [
        {
          "output_type": "stream",
          "name": "stdout",
          "text": [
            "/content/Willump-Simple-master\n"
          ]
        }
      ],
      "source": [
        "import os\n",
        "import sys\n",
        "import numpy as np\n",
        "import pandas as pd\n",
        "import sklearn\n",
        "import time\n",
        "import redis\n",
        "from catboost import CatBoostClassifier\n",
        "if (os.getcwd().endswith(\"notebooks\")):\n",
        "    os.chdir(\"..\")\n",
        "sys.path.insert(0, os.path.abspath(\"tests/benchmark_scripts\"))\n",
        "print(os.getcwd())\n",
        "import music_utils\n",
        "from music_utils import get_features_from_redis"
      ]
    },
    {
      "cell_type": "code",
      "source": [
        "!pip install redis\n",
        "!pip install catboost"
      ],
      "metadata": {
        "colab": {
          "base_uri": "https://localhost:8080/"
        },
        "id": "b5Iyd3hxnPUc",
        "outputId": "72da8661-4011-44e9-880e-c7efcc1c6859"
      },
      "execution_count": null,
      "outputs": [
        {
          "output_type": "stream",
          "name": "stdout",
          "text": [
            "Collecting redis\n",
            "  Downloading redis-4.0.2-py3-none-any.whl (119 kB)\n",
            "\u001b[?25l\r\u001b[K     |██▊                             | 10 kB 24.0 MB/s eta 0:00:01\r\u001b[K     |█████▌                          | 20 kB 25.0 MB/s eta 0:00:01\r\u001b[K     |████████▏                       | 30 kB 27.9 MB/s eta 0:00:01\r\u001b[K     |███████████                     | 40 kB 29.9 MB/s eta 0:00:01\r\u001b[K     |█████████████▊                  | 51 kB 33.2 MB/s eta 0:00:01\r\u001b[K     |████████████████▍               | 61 kB 33.5 MB/s eta 0:00:01\r\u001b[K     |███████████████████▏            | 71 kB 35.0 MB/s eta 0:00:01\r\u001b[K     |██████████████████████          | 81 kB 37.2 MB/s eta 0:00:01\r\u001b[K     |████████████████████████▋       | 92 kB 39.7 MB/s eta 0:00:01\r\u001b[K     |███████████████████████████▍    | 102 kB 42.0 MB/s eta 0:00:01\r\u001b[K     |██████████████████████████████▏ | 112 kB 42.0 MB/s eta 0:00:01\r\u001b[K     |████████████████████████████████| 119 kB 42.0 MB/s \n",
            "\u001b[?25hCollecting deprecated\n",
            "  Downloading Deprecated-1.2.13-py2.py3-none-any.whl (9.6 kB)\n",
            "Requirement already satisfied: wrapt<2,>=1.10 in /usr/local/lib/python3.7/dist-packages (from deprecated->redis) (1.13.3)\n",
            "Installing collected packages: deprecated, redis\n",
            "Successfully installed deprecated-1.2.13 redis-4.0.2\n",
            "Collecting catboost\n",
            "  Downloading catboost-1.0.3-cp37-none-manylinux1_x86_64.whl (76.3 MB)\n",
            "\u001b[K     |████████████████████████████████| 76.3 MB 1.3 MB/s \n",
            "\u001b[?25hRequirement already satisfied: graphviz in /usr/local/lib/python3.7/dist-packages (from catboost) (0.10.1)\n",
            "Requirement already satisfied: six in /usr/local/lib/python3.7/dist-packages (from catboost) (1.15.0)\n",
            "Requirement already satisfied: numpy>=1.16.0 in /usr/local/lib/python3.7/dist-packages (from catboost) (1.19.5)\n",
            "Requirement already satisfied: plotly in /usr/local/lib/python3.7/dist-packages (from catboost) (4.4.1)\n",
            "Requirement already satisfied: scipy in /usr/local/lib/python3.7/dist-packages (from catboost) (1.4.1)\n",
            "Requirement already satisfied: pandas>=0.24.0 in /usr/local/lib/python3.7/dist-packages (from catboost) (1.1.5)\n",
            "Requirement already satisfied: matplotlib in /usr/local/lib/python3.7/dist-packages (from catboost) (3.2.2)\n",
            "Requirement already satisfied: python-dateutil>=2.7.3 in /usr/local/lib/python3.7/dist-packages (from pandas>=0.24.0->catboost) (2.8.2)\n",
            "Requirement already satisfied: pytz>=2017.2 in /usr/local/lib/python3.7/dist-packages (from pandas>=0.24.0->catboost) (2018.9)\n",
            "Requirement already satisfied: cycler>=0.10 in /usr/local/lib/python3.7/dist-packages (from matplotlib->catboost) (0.11.0)\n",
            "Requirement already satisfied: kiwisolver>=1.0.1 in /usr/local/lib/python3.7/dist-packages (from matplotlib->catboost) (1.3.2)\n",
            "Requirement already satisfied: pyparsing!=2.0.4,!=2.1.2,!=2.1.6,>=2.0.1 in /usr/local/lib/python3.7/dist-packages (from matplotlib->catboost) (3.0.6)\n",
            "Requirement already satisfied: retrying>=1.3.3 in /usr/local/lib/python3.7/dist-packages (from plotly->catboost) (1.3.3)\n",
            "Installing collected packages: catboost\n",
            "Successfully installed catboost-1.0.3\n"
          ]
        }
      ]
    },
    {
      "cell_type": "code",
      "source": [
        "db = redis.StrictRedis(host='10.213.180.163')\n",
        "train_X, test_X, train_y, test_y = music_utils.load_music_dataset(db)\n",
        "\n",
        "\n",
        "# host='172.17.0.2'"
      ],
      "metadata": {
        "id": "B8ESjxUanS5j"
      },
      "execution_count": 7,
      "outputs": []
    },
    {
      "cell_type": "code",
      "source": [
        "def music_train(y, X_list):\n",
        "    X = pd.concat(X_list, axis=1)\n",
        "    X = X[[f for f in music_utils.FEATURES if f in X.columns]]\n",
        "    model = CatBoostClassifier(\n",
        "        iterations=5,\n",
        "        learning_rate=0.5,\n",
        "        # num_leaves=(2 ** 8),\n",
        "        depth=15,\n",
        "        eval_metric=\"AUC\")\n",
        "    model = model.fit(X, y)\n",
        "    return model\n",
        "\n",
        "def music_predict(model, X_list):\n",
        "    X = pd.concat(X_list, axis=1)\n",
        "    X = X[[f for f in music_utils.FEATURES if f in X.columns]]\n",
        "    if len(X) == 0:\n",
        "        return np.zeros(0, dtype=np.float32)\n",
        "    else:\n",
        "        return model.predict(X)\n",
        "\n",
        "\n",
        "def music_confidence(model, X_list):\n",
        "    X = pd.concat(X_list, axis=1)\n",
        "    X = X[[f for f in music_utils.FEATURES if f in X.columns]]\n",
        "    return model.predict_proba(X)[:, 1]\n",
        "\n",
        "\n",
        "def music_score(true_y, pred_y):\n",
        "    fpr, tpr, _ = sklearn.metrics.roc_curve(true_y, pred_y, pos_label=1)\n",
        "    return sklearn.metrics.auc(fpr, tpr)"
      ],
      "metadata": {
        "id": "fHU-U0dhnsky"
      },
      "execution_count": 8,
      "outputs": []
    },
    {
      "cell_type": "code",
      "source": [
        "os.chdir(\"willump\")"
      ],
      "metadata": {
        "id": "SPlda2uK7dzV"
      },
      "execution_count": 17,
      "outputs": []
    },
    {
      "cell_type": "code",
      "source": [
        "from willump.evaluation.willump_executor import willump_execute\n",
        "\n",
        "train_cascades_params = {} # The computed parameters will be stored here.\n",
        "\n",
        "@willump_execute(train_function=music_train,\n",
        "                 predict_function=music_predict,\n",
        "                 confidence_function=music_confidence,\n",
        "                 score_function=music_score,\n",
        "                 train_cascades_params=train_cascades_params)\n",
        "def music_train_pipeline(input_X, input_y):\n",
        "    user_latent_features = get_features_from_redis(\n",
        "        input_X, column=\"msno\", name=\"features_uf\", db=db)\n",
        "    song_latent_features = get_features_from_redis(\n",
        "        input_X, column=\"song_id\", name=\"features_sf\", db=db)\n",
        "    user_cluster_features = get_features_from_redis(\n",
        "        input_X, column=\"cluster_msno_25\", name=\"uc_features\", db=db)\n",
        "    song_cluster_features = get_features_from_redis(\n",
        "        input_X, column=\"cluster_song_id_25\", name=\"sc_features\", db=db)\n",
        "    artist_cluster_features = get_features_from_redis(\n",
        "        input_X, column=\"cluster_artist_name_25\", name=\"ac_features\", db=db)\n",
        "    user_features = get_features_from_redis(\n",
        "        input_X, column=\"msno\", name=\"us_features\", db=db)\n",
        "    song_features = get_features_from_redis(\n",
        "        input_X, column=\"song_id\", name=\"ss_features\", db=db)\n",
        "    artist_features = get_features_from_redis(\n",
        "        input_X, column=\"artist_name\", name=\"as_features\", db=db)\n",
        "    genre_features = get_features_from_redis(\n",
        "        input_X, column=\"genre_max\", name=\"gs_features\", db=db)\n",
        "    city_features = get_features_from_redis(\n",
        "        input_X, column=\"city\", name=\"cs_features\", db=db)\n",
        "    ages_features = get_features_from_redis(\n",
        "        input_X, column=\"bd\", name=\"ages_features\", db=db)\n",
        "    language_features = get_features_from_redis(\n",
        "        input_X, column=\"language\", name=\"ls_features\", db=db)\n",
        "    gender_features = get_features_from_redis(\n",
        "        input_X, column=\"gender\", name=\"gender_features\", db=db)\n",
        "    composer_features = get_features_from_redis(\n",
        "        input_X, column=\"composer\", name=\"composer_features\", db=db)\n",
        "    lyrs_features = get_features_from_redis(\n",
        "        input_X, column=\"lyricist\", name=\"lyrs_features\", db=db)\n",
        "    sns_features = get_features_from_redis(\n",
        "        input_X, column=\"source_screen_name\", name=\"sns_features\", db=db)\n",
        "    stabs_features = get_features_from_redis(\n",
        "        input_X, column=\"source_system_tab\", name=\"stabs_features\", db=db)\n",
        "    stypes_features = get_features_from_redis(\n",
        "        input_X, column=\"source_type\", name=\"stypes_features\", db=db)\n",
        "    regs_features = get_features_from_redis(\n",
        "        input_X, column=\"registered_via\", name=\"regs_features\", db=db)\n",
        "    return music_train(input_y,\n",
        "                       [user_latent_features, song_latent_features, user_cluster_features,\n",
        "                        song_cluster_features, artist_cluster_features, user_features,\n",
        "                        song_features, artist_features, genre_features, city_features,\n",
        "                        ages_features, language_features, gender_features,\n",
        "                        composer_features,lyrs_features, sns_features, stabs_features,\n",
        "                        stypes_features, regs_features])"
      ],
      "metadata": {
        "id": "DsdzMuC3oVHx"
      },
      "execution_count": 18,
      "outputs": []
    },
    {
      "cell_type": "code",
      "source": [
        "from willump.evaluation import cascades_construct\n",
        "\n",
        "train_X_features, feature_costs, feature_names = music_utils.compute_features(train_X, db)"
      ],
      "metadata": {
        "id": "1sJHOEcxoabD"
      },
      "execution_count": 19,
      "outputs": []
    },
    {
      "cell_type": "code",
      "source": [
        "cascades_train_X, cascades_valid_X, cascades_train_y, cascades_valid_y = \\\n",
        "    cascades_construct.train_test_split(train_X_features, train_y, test_size=0.25, random_state=42)\n",
        "train_set_full_model = music_train(cascades_train_y, cascades_train_X)\n",
        "\n",
        "feature_importances = \\\n",
        "    cascades_construct.calculate_feature_importances(train_set_full_model,\n",
        "                                                     cascades_valid_X, cascades_valid_y,\n",
        "                                                     music_predict, music_score,\n",
        "                                                     feature_names)\n",
        "\n",
        "cascades_construct.pretty_print(feature_importances, feature_costs)"
      ],
      "metadata": {
        "colab": {
          "base_uri": "https://localhost:8080/"
        },
        "id": "WMRfiBgwohTP",
        "outputId": "db21a1f6-17f8-4c43-a20a-bc0d84ee2120"
      },
      "execution_count": 20,
      "outputs": [
        {
          "output_type": "stream",
          "name": "stdout",
          "text": [
            "0:\ttotal: 4.17s\tremaining: 16.7s\n",
            "1:\ttotal: 8.45s\tremaining: 12.7s\n",
            "2:\ttotal: 12.7s\tremaining: 8.5s\n",
            "3:\ttotal: 16.9s\tremaining: 4.22s\n",
            "4:\ttotal: 20.9s\tremaining: 0us\n",
            "Feature: user_latent_features      Cost:  1.000 Importance:  0.109\n",
            "Feature: stabs_features            Cost:  1.000 Importance:  0.068\n",
            "Feature: user_cluster_features     Cost:  1.000 Importance:  0.061\n",
            "Feature: song_cluster_features     Cost:  1.000 Importance:  0.048\n",
            "Feature: stypes_features           Cost:  1.000 Importance:  0.048\n",
            "Feature: user_features             Cost:  1.000 Importance:  0.046\n",
            "Feature: ages_features             Cost:  1.000 Importance:  0.034\n",
            "Feature: artist_cluster_features   Cost:  1.000 Importance:  0.018\n",
            "Feature: sns_features              Cost:  1.000 Importance:  0.017\n",
            "Feature: regs_features             Cost:  1.000 Importance:  0.013\n",
            "Feature: genre_features            Cost:  1.000 Importance:  0.012\n",
            "Feature: gender_features           Cost:  1.000 Importance:  0.010\n",
            "Feature: song_latent_features      Cost:  1.000 Importance:  0.010\n",
            "Feature: song_features             Cost:  1.000 Importance:  0.007\n",
            "Feature: language_features         Cost:  1.000 Importance:  0.007\n",
            "Feature: lyrs_features             Cost:  1.000 Importance:  0.003\n",
            "Feature: city_features             Cost:  1.000 Importance:  0.003\n",
            "Feature: artist_features           Cost:  1.000 Importance:  0.000\n",
            "Feature: composer_features         Cost:  1.000 Importance:  0.000\n"
          ]
        }
      ]
    },
    {
      "cell_type": "code",
      "source": [
        "total_feature_cost = sum(feature_costs.values())\n",
        "cost_cutoff = 0.5 * total_feature_cost\n",
        "selected_indices = cascades_construct.select_features(feature_costs, feature_importances, cost_cutoff)\n",
        "selected_features = [feature_names[i] for i in selected_indices]\n",
        "\n",
        "print(\"Total feature cost: %5.3f  Selected feature cost cutoff: %5.3f\" % (total_feature_cost, cost_cutoff))\n",
        "print(\"Selected features:\")\n",
        "for feature in selected_features:\n",
        "    print(\"\\t%s\" % feature)"
      ],
      "metadata": {
        "colab": {
          "base_uri": "https://localhost:8080/"
        },
        "id": "ydOyQjjLp4u5",
        "outputId": "1afece3e-92a6-4d23-b832-f00bee90a04c"
      },
      "execution_count": 21,
      "outputs": [
        {
          "output_type": "stream",
          "name": "stdout",
          "text": [
            "Total feature cost: 19.000  Selected feature cost cutoff: 9.500\n",
            "Selected features:\n",
            "\tuser_latent_features\n",
            "\tuser_cluster_features\n",
            "\tsong_cluster_features\n",
            "\tartist_cluster_features\n",
            "\tuser_features\n",
            "\tages_features\n",
            "\tsns_features\n",
            "\tstabs_features\n",
            "\tstypes_features\n"
          ]
        }
      ]
    },
    {
      "cell_type": "code",
      "source": [
        "threshold, fraction_approximated = \\\n",
        "    cascades_construct.calculate_feature_set_performance(cascades_train_X, cascades_train_y, \n",
        "                                                         cascades_valid_X, cascades_valid_y,\n",
        "                                                         selected_indices,\n",
        "                                                         music_train, music_predict,\n",
        "                                                         music_confidence, music_score,\n",
        "                                                         train_set_full_model)\n",
        "selected_feature_cost = sum(feature_costs[feature_names[i]] for i in selected_indices)\n",
        "expected_cost = fraction_approximated * selected_feature_cost + \\\n",
        "    (1 - fraction_approximated) * total_feature_cost\n",
        "\n",
        "print(\"Confidence threshold: %5.3f  Percentage of inputs approximated: %5.3f\" \n",
        "      % (threshold, fraction_approximated))\n",
        "print(\"Expected Query Cost = Percent Approximated * Selected Feature Cost +\\n\" +\n",
        "      \"\\t\\t      Percent Not Approximated * Total Feature Cost\")\n",
        "print(\"\\t\\t    = %5.3f * %5.3f + %5.3f * %5.3f = %5.3f\" % \n",
        "      (fraction_approximated, selected_feature_cost,\n",
        "       1 - fraction_approximated, total_feature_cost, expected_cost))\n",
        "print(\"Projected speedup: %5.3f\" % (total_feature_cost / expected_cost))"
      ],
      "metadata": {
        "colab": {
          "base_uri": "https://localhost:8080/"
        },
        "id": "NIcmz5bysklM",
        "outputId": "9d79cd97-3a07-428a-eea4-8f4695ce9a57"
      },
      "execution_count": 22,
      "outputs": [
        {
          "output_type": "stream",
          "name": "stdout",
          "text": [
            "0:\ttotal: 2.39s\tremaining: 9.55s\n",
            "1:\ttotal: 4.81s\tremaining: 7.22s\n",
            "2:\ttotal: 7.15s\tremaining: 4.77s\n",
            "3:\ttotal: 9.54s\tremaining: 2.38s\n",
            "4:\ttotal: 11.9s\tremaining: 0us\n",
            "Confidence threshold: 0.600  Percentage of inputs approximated: 0.771\n",
            "Expected Query Cost = Percent Approximated * Selected Feature Cost +\n",
            "\t\t      Percent Not Approximated * Total Feature Cost\n",
            "\t\t    = 0.771 * 9.000 + 0.229 * 19.000 = 11.290\n",
            "Projected speedup: 1.683\n"
          ]
        }
      ]
    },
    {
      "cell_type": "code",
      "source": [
        "total_feature_cost = sum(feature_costs.values())\n",
        "cost_cutoff = 0.25 * total_feature_cost\n",
        "selected_indices = cascades_construct.select_features(feature_costs, feature_importances, cost_cutoff)\n",
        "selected_features = [feature_names[i] for i in selected_indices]\n",
        "\n",
        "print(\"Total feature cost: %5.3f  Selected feature cost cutoff: %5.3f\" % (total_feature_cost, cost_cutoff))\n",
        "print(\"Selected features:\")\n",
        "for feature in selected_features:\n",
        "    print(\"\\t%s\" % feature)\n",
        "\n",
        "threshold, fraction_approximated = \\\n",
        "    cascades_construct.calculate_feature_set_performance(cascades_train_X, cascades_train_y, \n",
        "                                                         cascades_valid_X, cascades_valid_y,\n",
        "                                                         selected_indices,\n",
        "                                                         music_train, music_predict,\n",
        "                                                         music_confidence, music_score,\n",
        "                                                         train_set_full_model)\n",
        "selected_feature_cost = sum(feature_costs[feature_names[i]] for i in selected_indices)\n",
        "expected_cost = fraction_approximated * selected_feature_cost + \\\n",
        "(1 - fraction_approximated) * total_feature_cost\n",
        "print(\"Confidence threshold: %5.3f  Percentage of inputs approximated: %5.3f\" \n",
        "      % (threshold, fraction_approximated))\n",
        "print(\"Expected Query Cost = Percent Approximated * Selected Feature Cost +\\n\" +\n",
        "      \"\\t\\t      Percent Not Approximated * Total Feature Cost\")\n",
        "print(\"\\t\\t    = %5.3f * %5.3f + %5.3f * %5.3f = %5.3f\" % \n",
        "      (fraction_approximated, selected_feature_cost,\n",
        "       1 - fraction_approximated, total_feature_cost, expected_cost))\n",
        "print(\"Projected speedup: %5.3f\" % (total_feature_cost / expected_cost))"
      ],
      "metadata": {
        "colab": {
          "base_uri": "https://localhost:8080/"
        },
        "id": "1uMIINsNsnyS",
        "outputId": "548c0281-cf2b-4004-f5b1-b47f9261b76a"
      },
      "execution_count": 23,
      "outputs": [
        {
          "output_type": "stream",
          "name": "stdout",
          "text": [
            "Total feature cost: 19.000  Selected feature cost cutoff: 4.750\n",
            "Selected features:\n",
            "\tuser_latent_features\n",
            "\tuser_cluster_features\n",
            "\tsong_cluster_features\n",
            "\tstabs_features\n",
            "0:\ttotal: 2.21s\tremaining: 8.84s\n",
            "1:\ttotal: 4.68s\tremaining: 7.02s\n",
            "2:\ttotal: 6.91s\tremaining: 4.61s\n",
            "3:\ttotal: 9.14s\tremaining: 2.28s\n",
            "4:\ttotal: 11.4s\tremaining: 0us\n",
            "Confidence threshold: 0.600  Percentage of inputs approximated: 0.746\n",
            "Expected Query Cost = Percent Approximated * Selected Feature Cost +\n",
            "\t\t      Percent Not Approximated * Total Feature Cost\n",
            "\t\t    = 0.746 * 4.000 + 0.254 * 19.000 = 7.807\n",
            "Projected speedup: 2.434\n"
          ]
        }
      ]
    },
    {
      "cell_type": "code",
      "source": [
        "cascades_params = {}\n",
        "cascades_params[\"selected_feature_indices\"] = selected_indices\n",
        "cascades_params[\"cascade_threshold\"] = threshold\n",
        "full_model = music_train(train_y, train_X_features)\n",
        "cascades_params[\"full_model\"] = full_model\n",
        "approximate_model = music_train(train_y, [train_X_features[i] for i in selected_indices])\n",
        "cascades_params[\"approximate_model\"] = approximate_model"
      ],
      "metadata": {
        "colab": {
          "base_uri": "https://localhost:8080/"
        },
        "id": "XyqP-9wdsrOr",
        "outputId": "949660f6-ba5d-40a2-8c1c-1608da220068"
      },
      "execution_count": 25,
      "outputs": [
        {
          "output_type": "stream",
          "name": "stdout",
          "text": [
            "0:\ttotal: 4.47s\tremaining: 17.9s\n",
            "1:\ttotal: 8.7s\tremaining: 13s\n",
            "2:\ttotal: 13.1s\tremaining: 8.74s\n",
            "3:\ttotal: 18.2s\tremaining: 4.55s\n",
            "4:\ttotal: 22.6s\tremaining: 0us\n",
            "0:\ttotal: 2.29s\tremaining: 9.15s\n",
            "1:\ttotal: 4.57s\tremaining: 6.86s\n",
            "2:\ttotal: 6.94s\tremaining: 4.62s\n",
            "3:\ttotal: 9.29s\tremaining: 2.32s\n",
            "4:\ttotal: 11.7s\tremaining: 0us\n"
          ]
        }
      ]
    },
    {
      "cell_type": "code",
      "source": [
        "def music_eval_pipeline(input_X, model):\n",
        "    user_latent_features = get_features_from_redis(\n",
        "        input_X, column=\"msno\", name=\"features_uf\", db=db)\n",
        "    song_latent_features = get_features_from_redis(\n",
        "        input_X, column=\"song_id\", name=\"features_sf\", db=db)\n",
        "    user_cluster_features = get_features_from_redis(\n",
        "        input_X, column=\"cluster_msno_25\", name=\"uc_features\", db=db)\n",
        "    song_cluster_features = get_features_from_redis(\n",
        "        input_X, column=\"cluster_song_id_25\", name=\"sc_features\", db=db)\n",
        "    artist_cluster_features = get_features_from_redis(\n",
        "        input_X, column=\"cluster_artist_name_25\", name=\"ac_features\", db=db)\n",
        "    user_features = get_features_from_redis(\n",
        "        input_X, column=\"msno\", name=\"us_features\", db=db)\n",
        "    song_features = get_features_from_redis(\n",
        "        input_X, column=\"song_id\", name=\"ss_features\", db=db)\n",
        "    artist_features = get_features_from_redis(\n",
        "        input_X, column=\"artist_name\", name=\"as_features\", db=db)\n",
        "    genre_features = get_features_from_redis(\n",
        "        input_X, column=\"genre_max\", name=\"gs_features\", db=db)\n",
        "    city_features = get_features_from_redis(\n",
        "        input_X, column=\"city\", name=\"cs_features\", db=db)\n",
        "    ages_features = get_features_from_redis(\n",
        "        input_X, column=\"bd\", name=\"ages_features\", db=db)\n",
        "    language_features = get_features_from_redis(\n",
        "        input_X, column=\"language\", name=\"ls_features\", db=db)\n",
        "    gender_features = get_features_from_redis(\n",
        "        input_X, column=\"gender\", name=\"gender_features\", db=db)\n",
        "    composer_features = get_features_from_redis(\n",
        "        input_X, column=\"composer\", name=\"composer_features\", db=db)\n",
        "    lyrs_features = get_features_from_redis(\n",
        "        input_X, column=\"lyricist\", name=\"lyrs_features\", db=db)\n",
        "    sns_features = get_features_from_redis(\n",
        "        input_X, column=\"source_screen_name\", name=\"sns_features\", db=db)\n",
        "    stabs_features = get_features_from_redis(\n",
        "        input_X, column=\"source_system_tab\", name=\"stabs_features\", db=db)\n",
        "    stypes_features = get_features_from_redis(\n",
        "        input_X, column=\"source_type\", name=\"stypes_features\", db=db)\n",
        "    regs_features = get_features_from_redis(\n",
        "        input_X, column=\"registered_via\", name=\"regs_features\", db=db)\n",
        "    return music_predict(model,\n",
        "                       [user_latent_features, song_latent_features, user_cluster_features,\n",
        "                        song_cluster_features, artist_cluster_features, user_features,\n",
        "                        song_features, artist_features, genre_features, city_features,\n",
        "                        ages_features, language_features, gender_features,\n",
        "                        composer_features,lyrs_features, sns_features, stabs_features,\n",
        "                        stypes_features, regs_features])\n",
        "\n",
        "time_start = time.time()\n",
        "preds = music_eval_pipeline(test_X[:2000], full_model)\n",
        "unopt_time_elapsed = time.time() - time_start\n",
        "print(\"Elapsed Time %fs\" % unopt_time_elapsed)\n",
        "\n",
        "print(\"AUC Score: %f\" % music_score(preds, test_y[:2000]))"
      ],
      "metadata": {
        "colab": {
          "base_uri": "https://localhost:8080/"
        },
        "id": "eMggEZsFsw65",
        "outputId": "9ee5533a-78be-480f-f8c2-ad2f75c32439"
      },
      "execution_count": 26,
      "outputs": [
        {
          "output_type": "stream",
          "name": "stdout",
          "text": [
            "Elapsed Time 15.486808s\n",
            "AUC Score: 0.713580\n"
          ]
        }
      ]
    },
    {
      "cell_type": "code",
      "source": [
        "@willump_execute(predict_function=music_predict,\n",
        "                 confidence_function=music_confidence,\n",
        "                 predict_cascades_params=cascades_params)\n",
        "def music_eval_pipeline(input_X, model):\n",
        "    user_latent_features = get_features_from_redis(\n",
        "        input_X, column=\"msno\", name=\"features_uf\", db=db)\n",
        "    song_latent_features = get_features_from_redis(\n",
        "        input_X, column=\"song_id\", name=\"features_sf\", db=db)\n",
        "    user_cluster_features = get_features_from_redis(\n",
        "        input_X, column=\"cluster_msno_25\", name=\"uc_features\", db=db)\n",
        "    song_cluster_features = get_features_from_redis(\n",
        "        input_X, column=\"cluster_song_id_25\", name=\"sc_features\", db=db)\n",
        "    artist_cluster_features = get_features_from_redis(\n",
        "        input_X, column=\"cluster_artist_name_25\", name=\"ac_features\", db=db)\n",
        "    user_features = get_features_from_redis(\n",
        "        input_X, column=\"msno\", name=\"us_features\", db=db)\n",
        "    song_features = get_features_from_redis(\n",
        "        input_X, column=\"song_id\", name=\"ss_features\", db=db)\n",
        "    artist_features = get_features_from_redis(\n",
        "        input_X, column=\"artist_name\", name=\"as_features\", db=db)\n",
        "    genre_features = get_features_from_redis(\n",
        "        input_X, column=\"genre_max\", name=\"gs_features\", db=db)\n",
        "    city_features = get_features_from_redis(\n",
        "        input_X, column=\"city\", name=\"cs_features\", db=db)\n",
        "    ages_features = get_features_from_redis(\n",
        "        input_X, column=\"bd\", name=\"ages_features\", db=db)\n",
        "    language_features = get_features_from_redis(\n",
        "        input_X, column=\"language\", name=\"ls_features\", db=db)\n",
        "    gender_features = get_features_from_redis(\n",
        "        input_X, column=\"gender\", name=\"gender_features\", db=db)\n",
        "    composer_features = get_features_from_redis(\n",
        "        input_X, column=\"composer\", name=\"composer_features\", db=db)\n",
        "    lyrs_features = get_features_from_redis(\n",
        "        input_X, column=\"lyricist\", name=\"lyrs_features\", db=db)\n",
        "    sns_features = get_features_from_redis(\n",
        "        input_X, column=\"source_screen_name\", name=\"sns_features\", db=db)\n",
        "    stabs_features = get_features_from_redis(\n",
        "        input_X, column=\"source_system_tab\", name=\"stabs_features\", db=db)\n",
        "    stypes_features = get_features_from_redis(\n",
        "        input_X, column=\"source_type\", name=\"stypes_features\", db=db)\n",
        "    regs_features = get_features_from_redis(\n",
        "        input_X, column=\"registered_via\", name=\"regs_features\", db=db)\n",
        "    return music_predict(model,\n",
        "                       [user_latent_features, song_latent_features, user_cluster_features,\n",
        "                        song_cluster_features, artist_cluster_features, user_features,\n",
        "                        song_features, artist_features, genre_features, city_features,\n",
        "                        ages_features, language_features, gender_features,\n",
        "                        composer_features,lyrs_features, sns_features, stabs_features,\n",
        "                        stypes_features, regs_features])\n",
        "\n",
        "music_eval_pipeline(test_X.iloc[:100], full_model)\n",
        "music_eval_pipeline(test_X.iloc[:100], full_model)\n",
        "time_start = time.time()\n",
        "preds = music_eval_pipeline(test_X[:2000], full_model)\n",
        "cascades_time_elapsed = time.time() - time_start\n",
        "print(\"Elapsed Time %fs\" % cascades_time_elapsed)\n",
        "\n",
        "print(\"AUC Score: %f\" % music_score(preds, test_y[:2000]))"
      ],
      "metadata": {
        "colab": {
          "base_uri": "https://localhost:8080/"
        },
        "id": "7TOSElrws2E8",
        "outputId": "20d3d8ef-3c6e-4e0b-88ce-7f9d156eba40"
      },
      "execution_count": 27,
      "outputs": [
        {
          "output_type": "stream",
          "name": "stdout",
          "text": [
            "Elapsed Time 6.246383s\n",
            "AUC Score: 0.733291\n"
          ]
        }
      ]
    },
    {
      "cell_type": "code",
      "source": [
        "import matplotlib.pyplot as plt\n",
        "plt.rcParams['axes.labelsize'] = 16\n",
        "plt.rcParams['xtick.labelsize'] = 16\n",
        "plt.rcParams['ytick.labelsize'] = 16\n",
        "fig, axes = plt.subplots(figsize=(6, 4), ncols=1, nrows=1,\n",
        "                         sharex=False, sharey=False)\n",
        "x = np.arange(2)\n",
        "width = 0.5  # the width of the bars\n",
        "\n",
        "bars = axes.bar(x, [2000 / unopt_time_elapsed, 2000 / cascades_time_elapsed], width)\n",
        "axes.set(xlabel='', ylabel='Throughput (rows/sec)')\n",
        "axes.set_xticks(x)\n",
        "axes.set_xticklabels([\"Unoptimized\", \"Cascades\"])\n",
        "plt.show()"
      ],
      "metadata": {
        "colab": {
          "base_uri": "https://localhost:8080/",
          "height": 270
        },
        "id": "5AfA4nkns8ax",
        "outputId": "85918f41-4096-4740-f6c8-9b0324fde6e0"
      },
      "execution_count": 28,
      "outputs": [
        {
          "output_type": "display_data",
          "data": {
            "image/png": "[encoded data removed]",
            "text/plain": [
              "<Figure size 432x288 with 1 Axes>"
            ]
          },
          "metadata": {
            "needs_background": "light"
          }
        }
      ]
    },
    {
      "cell_type": "markdown",
      "source": [
        "# Clearly, using cascades isn't helping with catboost as classifier\n",
        "\n",
        "In all cases, AUC is decreasing -> not a good sign\n",
        "Elapsed time is deceresing but minutely.\n",
        "\n",
        "All these changes are incremental\n",
        "\n",
        "1. Keeping params as is --> \n",
        "    No improvement w and w/o Willump\n",
        "\n",
        "2. Increasing iterations from 1 to 5 --> \n",
        "    vv minute improvement w and w/o Willump. Elapsed time remains same, AUC score decreases from 14.78 to 14.62.\n",
        "\n",
        "3. Increasing learning rate from 0.1 to 0.5 -->\n",
        "    Elapsed Time decreases from 14.890806s to 14.790561s\n",
        "    AUC Score decreases from 0.713580 to 0.652102\n"
      ],
      "metadata": {
        "id": "QHPSfqxNwb_6"
      }
    }
  ]
}